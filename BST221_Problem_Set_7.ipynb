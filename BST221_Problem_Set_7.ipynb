{
  "cells": [
    {
      "cell_type": "markdown",
      "metadata": {
        "id": "view-in-github",
        "colab_type": "text"
      },
      "source": [
        "<a href=\"https://colab.research.google.com/github/rebeccahurwitz/bootswatch/blob/master/BST221_Problem_Set_7.ipynb\" target=\"_parent\"><img src=\"https://colab.research.google.com/assets/colab-badge.svg\" alt=\"Open In Colab\"/></a>"
      ]
    },
    {
      "cell_type": "markdown",
      "metadata": {
        "id": "UeZPrphvAFZo"
      },
      "source": [
        "# <center> **BST 221 Problem Set 6** </center>"
      ]
    },
    {
      "cell_type": "markdown",
      "metadata": {
        "id": "pgGNftlrAFZq"
      },
      "source": [
        "### <center> Rebecca Hurwitz <br> 2023-04-14 </center> <br> "
      ]
    },
    {
      "cell_type": "markdown",
      "metadata": {
        "id": "BlEGF8EdAFZr"
      },
      "source": [
        "### 1. We consider the LU algorithm. Implement this algorithm again or modify the implementation from the labs such that row pivoting is used. Use the ”maximum column pivot” stategy from the lectures. Test your implementation on the system $Ax = b$ with\n",
        "$\\mathbf{\\mathit{A}}$ = $\\mathbf{\\begin{bmatrix} 0 & 3 & -2\\\\ 4 & -2 & 1\\\\ 2 & -1 & 1 \\end{bmatrix}}$,   $\\mathbf{\\mathit{b}}$ = $\\mathbf{\\begin{bmatrix} -1 \\\\ -1 \\\\ 8 \\end{bmatrix}}$  \n",
        "### which was used to demonstrate the LU algorithm in class (since the slides did not use the maximum column pivot strategy, it is fine if the order in which your code permutes rows is not the same as done in the slides). Print out or return the matrices $L, U,$ and $P$. Implement forward and backward substitution to solve $Ax = b$ for $x$."
      ]
    },
    {
      "cell_type": "code",
      "execution_count": 1,
      "metadata": {
        "colab": {
          "base_uri": "https://localhost:8080/"
        },
        "id": "7I08t2YGAFZu",
        "outputId": "987cf439-f039-4149-d196-78c20871c881"
      },
      "outputs": [
        {
          "output_type": "execute_result",
          "data": {
            "text/plain": [
              "[1.0, 11.0, 17.0]"
            ]
          },
          "metadata": {},
          "execution_count": 1
        }
      ],
      "source": [
        "import numpy as np\n",
        "\n",
        "class SystemSolver():\n",
        "\n",
        "    def __init__(self,data = []):\n",
        "        self.data = data\n",
        "\n",
        "    def LUFactorization(self, A):\n",
        "        nrows = A.shape[0]\n",
        "        ncols = A.shape[1]\n",
        "        n = nrows\n",
        "\n",
        "        if nrows == ncols:\n",
        "            L = np.identity(n)\n",
        "            U = A.astype(float)\n",
        "            P = np.identity(n) # Initialize the permutation matrix\n",
        "\n",
        "            for i in range(n-1):\n",
        "                # Find the maximum element in the current column below the diagonal\n",
        "                max_index = np.argmax(np.abs(U[i:, i])) + i\n",
        "\n",
        "                # Swap rows in U and P\n",
        "                U[[i, max_index], i:n] = U[[max_index, i], i:n]\n",
        "                P[[i, max_index], :] = P[[max_index, i], :]\n",
        "\n",
        "                # Update L with the same row swaps as U\n",
        "                if i > 0:\n",
        "                    L[[i, max_index], :i] = L[[max_index, i], :i]\n",
        "\n",
        "                for j in range(i+1, n):\n",
        "                    L[j, i] = U[j, i]/U[i, i]\n",
        "                    U[j, i:n] = U[j, i:n] - L[j, i]*U[i, i:n]\n",
        "\n",
        "            return(P, L, U)\n",
        "\n",
        "    def systemSolve(self, A, b):\n",
        "        P, L, U = self.LUFactorization(A)\n",
        "\n",
        "        # Apply permutation to the right-hand side b\n",
        "        b = np.dot(P, b)\n",
        "\n",
        "        n = len(b)\n",
        "        y = [None]*n\n",
        "\n",
        "        for j in range(n):\n",
        "            y[j] = b[j]/L[j, j]\n",
        "            for i in range(j+1, n):\n",
        "                b[i] = b[i] - L[i, j]*y[j]\n",
        "\n",
        "        x = [None]*n\n",
        "\n",
        "        for j in range(n-1, -1, -1):\n",
        "            x[j] = y[j]/U[j, j]\n",
        "            for i in range(j):\n",
        "                y[i] = y[i] - U[i, j]*x[j]\n",
        "\n",
        "        return x\n"
      ]
    },
    {
      "cell_type": "code",
      "execution_count": null,
      "metadata": {
        "id": "2ZXcxC9PAFZv"
      },
      "outputs": [],
      "source": [
        "#Check that this class works. Corresponds with example from lab slides.\n",
        "SS = SystemSolver()\n",
        "A = np.array([[0, 3, -2], [4, -2, 1], [2, -1, 1]]) \n",
        "b = [-1, -1, 8]\n",
        "SS.systemSolve(A,b)"
      ]
    },
    {
      "cell_type": "markdown",
      "metadata": {
        "id": "jiog1ZE6AFZy"
      },
      "source": [
        "### 2. Implement an algorithm that solves $Ax = b$ using the Cholesky decomposition. Before running Cholesky, your code should check that $A$ is symmetric and positive definite (note that this implies $A$ must be square as well). Test your implementation on the system  \n",
        "$\\mathbf{\\mathit{A}}$ = $\\mathbf{\\begin{bmatrix} 4 & 12 & -16\\\\ 12 & 37 & -43\\\\ -16 & -43 & 98 \\end{bmatrix}}$,  $\\mathbf{\\mathit{b}}$ = $\\mathbf{\\begin{bmatrix} 0 \\\\ 6 \\\\ 39 \\end{bmatrix}}$   \n",
        "### Print out or return the matrix L. Use the foward and backward substitution algorithms from the previous question to calculate the solution vector x. Recall that no pivoting is required for the Cholesky decomposition.  "
      ]
    },
    {
      "cell_type": "code",
      "execution_count": null,
      "metadata": {
        "id": "avA4XB-EAFZz"
      },
      "outputs": [],
      "source": [
        "def givens_rotation(A, decimals=10):\n",
        "    \"\"\"Perform QR decomposition of matrix A using Givens rotation.\"\"\"\n",
        "    (num_rows, num_cols) = np.shape(A)\n",
        "\n",
        "    #Initialize orthogonal matrix Q and upper triangular matrix R.\n",
        "    Q = np.identity(num_rows)\n",
        "    R = np.copy(A)\n",
        "\n",
        "    #Iterate over lower triangular matrix.\n",
        "    #Iterate over columns left to right.\n",
        "    for col in range(num_cols):\n",
        "        #Iterate over rows bottom towards diagonal.\n",
        "        for row in range(num_rows-1, col, -1):\n",
        "\n",
        "            #Compute Givens rotation matrix and\n",
        "            #zero-out lower triangular matrix entries.\n",
        "            if R[row, col] != 0:\n",
        "                a = R[col, col]\n",
        "                b = R[row, col]\n",
        "                r = np.sqrt(a**2 + b**2)\n",
        "                c = a/r\n",
        "                s = -b/r\n",
        "                \n",
        "                #Fill out the Givens rotation matrix\n",
        "                G = np.identity(num_rows)\n",
        "                G[col, col] = c\n",
        "                G[row, row] = c\n",
        "                G[row, col] = s\n",
        "                G[col, row] = -s\n",
        "                \n",
        "                #Keep track of R and Q\n",
        "                #Since G is orthogonal, G^{-1}=G^T\n",
        "                R = np.dot(G, R)\n",
        "                Q = np.dot(Q, G.T)\n",
        "\n",
        "    #Return results, rounding as desired.\n",
        "    return (Q.round(decimals), R.round(decimals))"
      ]
    }
  ],
  "metadata": {
    "kernelspec": {
      "display_name": "Python 3.9.12 ('base')",
      "language": "python",
      "name": "python3"
    },
    "language_info": {
      "codemirror_mode": {
        "name": "ipython",
        "version": 3
      },
      "file_extension": ".py",
      "mimetype": "text/x-python",
      "name": "python",
      "nbconvert_exporter": "python",
      "pygments_lexer": "ipython3",
      "version": "3.9.12"
    },
    "vscode": {
      "interpreter": {
        "hash": "4c3438da9a77b3f3a3e9a0cf359a7d6309777d7f1382b75dc4021cdd747e9023"
      }
    },
    "colab": {
      "provenance": [],
      "include_colab_link": true
    }
  },
  "nbformat": 4,
  "nbformat_minor": 0
}